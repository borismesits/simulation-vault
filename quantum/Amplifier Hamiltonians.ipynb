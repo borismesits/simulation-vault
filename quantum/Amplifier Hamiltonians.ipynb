{
 "cells": [
  {
   "cell_type": "code",
   "execution_count": 2,
   "id": "783b98b7",
   "metadata": {},
   "outputs": [],
   "source": [
    "from qutip import *\n",
    "import numpy as np\n",
    "import matplotlib.pyplot as plt"
   ]
  },
  {
   "cell_type": "code",
   "execution_count": 57,
   "id": "0a70e843",
   "metadata": {},
   "outputs": [],
   "source": [
    "b = destroy(5)"
   ]
  },
  {
   "cell_type": "code",
   "execution_count": 58,
   "id": "56b858ae",
   "metadata": {},
   "outputs": [
    {
     "data": {
      "text/latex": [
       "Quantum object: dims = [[5], [5]], shape = (5, 5), type = oper, isherm = False $ \\\\ \\left(\\begin{matrix}0.0 & 1.0 & 0.0 & 0.0 & 0.0\\\\0.0 & 0.0 & 1.414 & 0.0 & 0.0\\\\0.0 & 0.0 & 0.0 & 1.732 & 0.0\\\\0.0 & 0.0 & 0.0 & 0.0 & 2.0\\\\0.0 & 0.0 & 0.0 & 0.0 & 0.0\\\\\\end{matrix}\\right)$"
      ],
      "text/plain": [
       "Quantum object: dims = [[5], [5]], shape = (5, 5), type = oper, isherm = False\n",
       "Qobj data =\n",
       "[[0.         1.         0.         0.         0.        ]\n",
       " [0.         0.         1.41421356 0.         0.        ]\n",
       " [0.         0.         0.         1.73205081 0.        ]\n",
       " [0.         0.         0.         0.         2.        ]\n",
       " [0.         0.         0.         0.         0.        ]]"
      ]
     },
     "execution_count": 58,
     "metadata": {},
     "output_type": "execute_result"
    }
   ],
   "source": [
    "b"
   ]
  },
  {
   "cell_type": "code",
   "execution_count": 59,
   "id": "8688df70",
   "metadata": {},
   "outputs": [],
   "source": [
    "ωb = 5e9*np.pi*2\n",
    "K = 1e8*np.pi*2\n",
    "\n",
    "H0 = ωb *b.dag()*b - K*(b + b.dag())**3\n",
    "\n",
    "H = H0 + K*(b.dag() + b)**4"
   ]
  },
  {
   "cell_type": "code",
   "execution_count": 60,
   "id": "b4be7c8a",
   "metadata": {},
   "outputs": [
    {
     "data": {
      "text/plain": [
       "array([3.06418437e+10, 3.03596114e+10, 3.39208749e+10, 3.33830352e+10])"
      ]
     },
     "execution_count": 60,
     "metadata": {},
     "output_type": "execute_result"
    }
   ],
   "source": [
    "np.diff(H0.eigenstates()[0])"
   ]
  },
  {
   "cell_type": "code",
   "execution_count": 61,
   "id": "c14cc45e",
   "metadata": {},
   "outputs": [
    {
     "data": {
      "text/latex": [
       "Quantum object: dims = [[5], [5]], shape = (5, 5), type = oper, isherm = True $ \\\\ \\left(\\begin{matrix}0.0 & -1.885\\times10^{+09} & 0.0 & -1.539\\times10^{+09} & 0.0\\\\-1.885\\times10^{+09} & 3.142\\times10^{+10} & -5.331\\times10^{+09} & 0.0 & -3.078\\times10^{+09}\\\\0.0 & -5.331\\times10^{+09} & 6.283\\times10^{+10} & -9.795\\times10^{+09} & 0.0\\\\-1.539\\times10^{+09} & 0.0 & -9.795\\times10^{+09} & 9.425\\times10^{+10} & -8.796\\times10^{+09}\\\\0.0 & -3.078\\times10^{+09} & 0.0 & -8.796\\times10^{+09} & 1.257\\times10^{+11}\\\\\\end{matrix}\\right)$"
      ],
      "text/plain": [
       "Quantum object: dims = [[5], [5]], shape = (5, 5), type = oper, isherm = True\n",
       "Qobj data =\n",
       "[[ 0.00000000e+00 -1.88495559e+09  0.00000000e+00 -1.53905980e+09\n",
       "   0.00000000e+00]\n",
       " [-1.88495559e+09  3.14159265e+10 -5.33145953e+09  0.00000000e+00\n",
       "  -3.07811959e+09]\n",
       " [ 0.00000000e+00 -5.33145953e+09  6.28318531e+10 -9.79451657e+09\n",
       "   0.00000000e+00]\n",
       " [-1.53905980e+09  0.00000000e+00 -9.79451657e+09  9.42477796e+10\n",
       "  -8.79645943e+09]\n",
       " [ 0.00000000e+00 -3.07811959e+09  0.00000000e+00 -8.79645943e+09\n",
       "   1.25663706e+11]]"
      ]
     },
     "execution_count": 61,
     "metadata": {},
     "output_type": "execute_result"
    }
   ],
   "source": [
    "H0"
   ]
  },
  {
   "cell_type": "code",
   "execution_count": null,
   "id": "d4257460",
   "metadata": {},
   "outputs": [],
   "source": []
  },
  {
   "cell_type": "code",
   "execution_count": 80,
   "id": "4eb7cd45",
   "metadata": {},
   "outputs": [
    {
     "data": {
      "text/latex": [
       "Quantum object: dims = [[1], [1]], shape = (1, 1), type = bra $ \\\\ \\left(\\begin{matrix}0.0\\\\\\end{matrix}\\right)$"
      ],
      "text/plain": [
       "Quantum object: dims = [[1], [1]], shape = (1, 1), type = bra\n",
       "Qobj data =\n",
       "[[0.]]"
      ]
     },
     "execution_count": 80,
     "metadata": {},
     "output_type": "execute_result"
    }
   ],
   "source": [
    "psi = coherent(50,0)\n",
    "b = destroy(50)\n",
    "psi.dag()*b.dag()*b*psi"
   ]
  },
  {
   "cell_type": "code",
   "execution_count": null,
   "id": "59c08fbd",
   "metadata": {},
   "outputs": [],
   "source": []
  }
 ],
 "metadata": {
  "kernelspec": {
   "display_name": "Python 3 (ipykernel)",
   "language": "python",
   "name": "python3"
  },
  "language_info": {
   "codemirror_mode": {
    "name": "ipython",
    "version": 3
   },
   "file_extension": ".py",
   "mimetype": "text/x-python",
   "name": "python",
   "nbconvert_exporter": "python",
   "pygments_lexer": "ipython3",
   "version": "3.11.5"
  }
 },
 "nbformat": 4,
 "nbformat_minor": 5
}
