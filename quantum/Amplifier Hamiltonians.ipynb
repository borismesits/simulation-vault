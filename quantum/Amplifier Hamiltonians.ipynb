{
 "cells": [
  {
   "cell_type": "code",
   "execution_count": 3,
   "id": "783b98b7",
   "metadata": {},
   "outputs": [],
   "source": [
    "from qutip import *\n",
    "import numpy as np\n",
    "import matplotlib.pyplot as plt"
   ]
  },
  {
   "cell_type": "code",
   "execution_count": 22,
   "id": "0a70e843",
   "metadata": {},
   "outputs": [],
   "source": [
    "b = destroy(7)"
   ]
  },
  {
   "cell_type": "code",
   "execution_count": 23,
   "id": "56b858ae",
   "metadata": {},
   "outputs": [
    {
     "data": {
      "text/latex": [
       "Quantum object: dims = [[7], [7]], shape = (7, 7), type = oper, isherm = False\\begin{equation*}\\left(\\begin{array}{*{11}c}0.0 & 1.0 & 0.0 & 0.0 & 0.0 & 0.0 & 0.0\\\\0.0 & 0.0 & 1.414 & 0.0 & 0.0 & 0.0 & 0.0\\\\0.0 & 0.0 & 0.0 & 1.732 & 0.0 & 0.0 & 0.0\\\\0.0 & 0.0 & 0.0 & 0.0 & 2.0 & 0.0 & 0.0\\\\0.0 & 0.0 & 0.0 & 0.0 & 0.0 & 2.236 & 0.0\\\\0.0 & 0.0 & 0.0 & 0.0 & 0.0 & 0.0 & 2.449\\\\0.0 & 0.0 & 0.0 & 0.0 & 0.0 & 0.0 & 0.0\\\\\\end{array}\\right)\\end{equation*}"
      ],
      "text/plain": [
       "Quantum object: dims = [[7], [7]], shape = (7, 7), type = oper, isherm = False\n",
       "Qobj data =\n",
       "[[0.         1.         0.         0.         0.         0.\n",
       "  0.        ]\n",
       " [0.         0.         1.41421356 0.         0.         0.\n",
       "  0.        ]\n",
       " [0.         0.         0.         1.73205081 0.         0.\n",
       "  0.        ]\n",
       " [0.         0.         0.         0.         2.         0.\n",
       "  0.        ]\n",
       " [0.         0.         0.         0.         0.         2.23606798\n",
       "  0.        ]\n",
       " [0.         0.         0.         0.         0.         0.\n",
       "  2.44948974]\n",
       " [0.         0.         0.         0.         0.         0.\n",
       "  0.        ]]"
      ]
     },
     "execution_count": 23,
     "metadata": {},
     "output_type": "execute_result"
    }
   ],
   "source": [
    "b"
   ]
  },
  {
   "cell_type": "code",
   "execution_count": 28,
   "id": "8688df70",
   "metadata": {},
   "outputs": [],
   "source": [
    "ωb = 5e9*np.pi*2\n",
    "K = 1e8*np.pi*2\n",
    "\n",
    "H0 = ωb *b.dag()*b\n",
    "\n",
    "H = H0 + K*(b.dag() + b)**4"
   ]
  },
  {
   "cell_type": "code",
   "execution_count": 29,
   "id": "83bb33a7",
   "metadata": {},
   "outputs": [],
   "source": [
    "U = (-1j*H0).expm()"
   ]
  },
  {
   "cell_type": "code",
   "execution_count": 30,
   "id": "d8951c20",
   "metadata": {},
   "outputs": [
    {
     "data": {
      "text/latex": [
       "Quantum object: dims = [[7], [7]], shape = (7, 7), type = oper, isherm = False\\begin{equation*}\\left(\\begin{array}{*{11}c}1.885\\times10^{+09} & 0.0 & (5.331\\times10^{+09}-1.680\\times10^{+04}j) & 0.0 & (3.078\\times10^{+09}+2.757\\times10^{+04}j) & 0.0 & 0.0\\\\0.0 & (4.084\\times10^{+10}-1.455\\times10^{-11}j) & 0.0 & (1.539\\times10^{+10}+3.625\\times10^{+05}j) & 0.0 & (6.883\\times10^{+09}+3.540\\times10^{+04}j) & 0.0\\\\(5.331\\times10^{+09}+1.680\\times10^{+04}j) & 0.0 & (8.734\\times10^{+10}-5.821\\times10^{-11}j) & 0.0 & (3.047\\times10^{+10}+3.690\\times10^{+05}j) & 0.0 & (1.192\\times10^{+10}+2.887\\times10^{+05}j)\\\\0.0 & (1.539\\times10^{+10}-3.625\\times10^{+05}j) & 0.0 & 1.414\\times10^{+11} & 0.0 & (5.058\\times10^{+10}-9.311\\times10^{+05}j) & 0.0\\\\(3.078\\times10^{+09}-2.757\\times10^{+04}j) & 0.0 & (3.047\\times10^{+10}-3.690\\times10^{+05}j) & 0.0 & (2.029\\times10^{+11}+2.328\\times10^{-10}j) & 0.0 & (5.162\\times10^{+10}+6.250\\times10^{+05}j)\\\\0.0 & (6.883\\times10^{+09}-3.540\\times10^{+04}j) & 0.0 & (5.058\\times10^{+10}+9.311\\times10^{+05}j) & 0.0 & 2.457\\times10^{+11} & 0.0\\\\0.0 & 0.0 & (1.192\\times10^{+10}-2.887\\times10^{+05}j) & 0.0 & (5.162\\times10^{+10}-6.250\\times10^{+05}j) & 0.0 & 2.300\\times10^{+11}\\\\\\end{array}\\right)\\end{equation*}"
      ],
      "text/plain": [
       "Quantum object: dims = [[7], [7]], shape = (7, 7), type = oper, isherm = False\n",
       "Qobj data =\n",
       "[[1.88495559e+09+0.00000000e+00j 0.00000000e+00+0.00000000e+00j\n",
       "  5.33145953e+09-1.67976643e+04j 0.00000000e+00+0.00000000e+00j\n",
       "  3.07811959e+09+2.75721056e+04j 0.00000000e+00+0.00000000e+00j\n",
       "  0.00000000e+00+0.00000000e+00j]\n",
       " [0.00000000e+00+0.00000000e+00j 4.08407045e+10-1.45519152e-11j\n",
       "  0.00000000e+00+0.00000000e+00j 1.53905980e+10+3.62482624e+05j\n",
       "  0.00000000e+00+0.00000000e+00j 6.88288465e+09+3.53969811e+04j\n",
       "  0.00000000e+00+0.00000000e+00j]\n",
       " [5.33145953e+09+1.67976643e+04j 0.00000000e+00+0.00000000e+00j\n",
       "  8.73362758e+10-5.82076609e-11j 0.00000000e+00+0.00000000e+00j\n",
       "  3.04718293e+10+3.68956568e+05j 0.00000000e+00+0.00000000e+00j\n",
       "  1.19215059e+10+2.88694050e+05j]\n",
       " [0.00000000e+00+0.00000000e+00j 1.53905980e+10-3.62482624e+05j\n",
       "  0.00000000e+00+0.00000000e+00j 1.41371669e+11+0.00000000e+00j\n",
       "  0.00000000e+00+0.00000000e+00j 5.05786661e+10-9.31125832e+05j\n",
       "  0.00000000e+00+0.00000000e+00j]\n",
       " [3.07811959e+09-2.75721056e+04j 0.00000000e+00+0.00000000e+00j\n",
       "  3.04718293e+10-3.68956568e+05j 0.00000000e+00+0.00000000e+00j\n",
       "  2.02946885e+11+2.32830644e-10j 0.00000000e+00+0.00000000e+00j\n",
       "  5.16216349e+10+6.25040953e+05j]\n",
       " [0.00000000e+00+0.00000000e+00j 6.88288465e+09-3.53969811e+04j\n",
       "  0.00000000e+00+0.00000000e+00j 5.05786661e+10+9.31125832e+05j\n",
       "  0.00000000e+00+0.00000000e+00j 2.45672546e+11+0.00000000e+00j\n",
       "  0.00000000e+00+0.00000000e+00j]\n",
       " [0.00000000e+00+0.00000000e+00j 0.00000000e+00+0.00000000e+00j\n",
       "  1.19215059e+10-2.88694050e+05j 0.00000000e+00+0.00000000e+00j\n",
       "  5.16216349e+10-6.25040953e+05j 0.00000000e+00+0.00000000e+00j\n",
       "  2.29964582e+11+0.00000000e+00j]]"
      ]
     },
     "execution_count": 30,
     "metadata": {},
     "output_type": "execute_result"
    }
   ],
   "source": [
    "U.dag()*H*U"
   ]
  },
  {
   "cell_type": "code",
   "execution_count": 31,
   "id": "2f56b84b",
   "metadata": {},
   "outputs": [
    {
     "data": {
      "text/latex": [
       "Quantum object: dims = [[7], [7]], shape = (7, 7), type = oper, isherm = True\\begin{equation*}\\left(\\begin{array}{*{11}c}0.0 & 0.0 & 5.331 & 0.0 & 0.0 & 0.0 & 0.0\\\\0.0 & 0.0 & 0.0 & 9.234 & 0.0 & 0.0 & 0.0\\\\5.331 & 0.0 & 0.0 & 0.0 & 13.058 & 0.0 & 0.0\\\\0.0 & 9.234 & 0.0 & 0.0 & 0.0 & 16.858 & 0.0\\\\0.0 & 0.0 & 13.058 & 0.0 & 0.0 & 0.0 & 20.647\\\\0.0 & 0.0 & 0.0 & 16.858 & 0.0 & 0.0 & 0.0\\\\0.0 & 0.0 & 0.0 & 0.0 & 20.647 & 0.0 & 0.0\\\\\\end{array}\\right)\\end{equation*}"
      ],
      "text/plain": [
       "Quantum object: dims = [[7], [7]], shape = (7, 7), type = oper, isherm = True\n",
       "Qobj data =\n",
       "[[ 0.          0.          5.331       0.          0.          0.\n",
       "   0.        ]\n",
       " [ 0.          0.          0.          9.23356286  0.          0.\n",
       "   0.        ]\n",
       " [ 5.331       0.          0.          0.         13.05822982  0.\n",
       "   0.        ]\n",
       " [ 0.          9.23356286  0.          0.          0.         16.85810221\n",
       "   0.        ]\n",
       " [ 0.          0.         13.05822982  0.          0.          0.\n",
       "  20.64687422]\n",
       " [ 0.          0.          0.         16.85810221  0.          0.\n",
       "   0.        ]\n",
       " [ 0.          0.          0.          0.         20.64687422  0.\n",
       "   0.        ]]"
      ]
     },
     "execution_count": 31,
     "metadata": {},
     "output_type": "execute_result"
    }
   ],
   "source": [
    "(b**2 + b.dag()**2)/np.sqrt(2)*5.331"
   ]
  },
  {
   "cell_type": "code",
   "execution_count": 21,
   "id": "c6070924",
   "metadata": {},
   "outputs": [
    {
     "data": {
      "text/latex": [
       "Quantum object: dims = [[5], [5]], shape = (5, 5), type = oper, isherm = True\\begin{equation*}\\left(\\begin{array}{*{11}c}1.0 & 0.0 & 0.0 & 0.0 & 0.0\\\\0.0 & 4.0 & 0.0 & 0.0 & 0.0\\\\0.0 & 0.0 & 9.000 & 0.0 & 0.0\\\\0.0 & 0.0 & 0.0 & 16.0 & 0.0\\\\0.0 & 0.0 & 0.0 & 0.0 & 0.0\\\\\\end{array}\\right)\\end{equation*}"
      ],
      "text/plain": [
       "Quantum object: dims = [[5], [5]], shape = (5, 5), type = oper, isherm = True\n",
       "Qobj data =\n",
       "[[ 1.  0.  0.  0.  0.]\n",
       " [ 0.  4.  0.  0.  0.]\n",
       " [ 0.  0.  9.  0.  0.]\n",
       " [ 0.  0.  0. 16.  0.]\n",
       " [ 0.  0.  0.  0.  0.]]"
      ]
     },
     "execution_count": 21,
     "metadata": {},
     "output_type": "execute_result"
    }
   ],
   "source": [
    "(b*b.dag())**2"
   ]
  },
  {
   "cell_type": "code",
   "execution_count": null,
   "id": "6d98d63d",
   "metadata": {},
   "outputs": [],
   "source": []
  }
 ],
 "metadata": {
  "kernelspec": {
   "display_name": "Python 3 (ipykernel)",
   "language": "python",
   "name": "python3"
  },
  "language_info": {
   "codemirror_mode": {
    "name": "ipython",
    "version": 3
   },
   "file_extension": ".py",
   "mimetype": "text/x-python",
   "name": "python",
   "nbconvert_exporter": "python",
   "pygments_lexer": "ipython3",
   "version": "3.9.7"
  }
 },
 "nbformat": 4,
 "nbformat_minor": 5
}
