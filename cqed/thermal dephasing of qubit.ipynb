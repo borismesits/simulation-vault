{
 "cells": [
  {
   "cell_type": "code",
   "execution_count": 39,
   "id": "390ff5f5",
   "metadata": {},
   "outputs": [
    {
     "name": "stdout",
     "output_type": "stream",
     "text": [
      "1.2173466067616303\n",
      "0.0004094584182589955\n"
     ]
    }
   ],
   "source": [
    "import numpy as np\n",
    "\n",
    "kB = 1.38e-23\n",
    "h = 6.62e-34\n",
    "\n",
    "f = 5e9\n",
    "T = 0.4\n",
    "\n",
    "nbar = 1 / ( np.exp(h*f / (kB*T)) - 1 )\n",
    "\n",
    "print(nbar)\n",
    "\n",
    "kappa = 1e6*2*np.pi\n",
    "chi = 12e3*2*np.pi\n",
    "\n",
    "tphi = kappa / (nbar * (nbar+1) * chi**2)\n",
    "\n",
    "print(tphi)"
   ]
  },
  {
   "cell_type": "code",
   "execution_count": 6,
   "id": "0efaef95",
   "metadata": {},
   "outputs": [
    {
     "name": "stdout",
     "output_type": "stream",
     "text": [
      "5.724375191287727e-10\n"
     ]
    }
   ],
   "source": []
  }
 ],
 "metadata": {
  "kernelspec": {
   "display_name": "fullconda",
   "language": "python",
   "name": "myenv"
  },
  "language_info": {
   "codemirror_mode": {
    "name": "ipython",
    "version": 3
   },
   "file_extension": ".py",
   "mimetype": "text/x-python",
   "name": "python",
   "nbconvert_exporter": "python",
   "pygments_lexer": "ipython3",
   "version": "3.12.9"
  }
 },
 "nbformat": 4,
 "nbformat_minor": 5
}
