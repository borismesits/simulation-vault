{
 "cells": [
  {
   "cell_type": "code",
   "execution_count": null,
   "id": "2002d9e7",
   "metadata": {},
   "outputs": [],
   "source": [
    "import numpy as np\n",
    "import matplotlib.pyplot as plt\n",
    "\n",
    "kappa = 5e6 * 2 * np.pi\n",
    "geff = 1e6 * 2 * np.pi\n",
    "\n",
    "G = 1 + (4* kappa**2 * geff**2 ) / (  )"
   ]
  }
 ],
 "metadata": {
  "kernelspec": {
   "display_name": "fullconda",
   "language": "python",
   "name": "myenv"
  },
  "language_info": {
   "codemirror_mode": {
    "name": "ipython",
    "version": 3
   },
   "file_extension": ".py",
   "mimetype": "text/x-python",
   "name": "python",
   "nbconvert_exporter": "python",
   "pygments_lexer": "ipython3",
   "version": "3.12.9"
  }
 },
 "nbformat": 4,
 "nbformat_minor": 5
}
