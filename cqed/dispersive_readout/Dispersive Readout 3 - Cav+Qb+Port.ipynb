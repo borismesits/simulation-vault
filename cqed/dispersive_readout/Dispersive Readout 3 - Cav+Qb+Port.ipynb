{
 "cells": [
  {
   "cell_type": "code",
   "execution_count": 2,
   "id": "aef3599e",
   "metadata": {},
   "outputs": [
    {
     "ename": "ModuleNotFoundError",
     "evalue": "No module named 'scqubits'",
     "output_type": "error",
     "traceback": [
      "\u001b[1;31m---------------------------------------------------------------------------\u001b[0m",
      "\u001b[1;31mModuleNotFoundError\u001b[0m                       Traceback (most recent call last)",
      "\u001b[1;32m~\\AppData\\Local\\Temp/ipykernel_23380/3413368007.py\u001b[0m in \u001b[0;36m<module>\u001b[1;34m\u001b[0m\n\u001b[0;32m      3\u001b[0m \u001b[1;32mimport\u001b[0m \u001b[0mmatplotlib\u001b[0m\u001b[1;33m.\u001b[0m\u001b[0mpyplot\u001b[0m \u001b[1;32mas\u001b[0m \u001b[0mplt\u001b[0m\u001b[1;33m\u001b[0m\u001b[1;33m\u001b[0m\u001b[0m\n\u001b[0;32m      4\u001b[0m \u001b[1;32mfrom\u001b[0m \u001b[0mqutip\u001b[0m \u001b[1;32mimport\u001b[0m \u001b[1;33m*\u001b[0m\u001b[1;33m\u001b[0m\u001b[1;33m\u001b[0m\u001b[0m\n\u001b[1;32m----> 5\u001b[1;33m \u001b[1;32mimport\u001b[0m \u001b[0mscqubits\u001b[0m \u001b[1;32mas\u001b[0m \u001b[0mscq\u001b[0m\u001b[1;33m\u001b[0m\u001b[1;33m\u001b[0m\u001b[0m\n\u001b[0m",
      "\u001b[1;31mModuleNotFoundError\u001b[0m: No module named 'scqubits'"
     ]
    }
   ],
   "source": [
    "%matplotlib inline\n",
    "import numpy as np\n",
    "import matplotlib.pyplot as plt\n",
    "from qutip import *\n",
    "import scqubits as scq"
   ]
  },
  {
   "cell_type": "code",
   "execution_count": 3,
   "id": "aa29b5bd",
   "metadata": {},
   "outputs": [
    {
     "data": {
      "text/latex": [
       "$\\displaystyle \\frac{0.5 \\sqrt{2} x \\left(m^{2} \\omega^{2} x^{2} + p^{2}\\right)}{\\sqrt{m \\omega}}$"
      ],
      "text/plain": [
       "0.5*sqrt(2)*x*(m**2*omega**2*x**2 + p**2)/sqrt(m*omega)"
      ]
     },
     "execution_count": 3,
     "metadata": {},
     "output_type": "execute_result"
    }
   ],
   "source": [
    "import sympy as sp\n",
    "import numpy as np\n",
    "\n",
    "x = sp.Symbol('x')\n",
    "p = sp.Symbol('p')\n",
    "m = sp.Symbol('m')\n",
    "omega = sp.Symbol('omega')\n",
    "\n",
    "s = (m*omega*x+1j*p)/sp.sqrt(2*m*omega)\n",
    "sdag = (m*omega*x-1j*p)/sp.sqrt(2*m*omega)\n",
    "\n",
    "sp.simplify(sdag*sdag*s + sdag*s*s)"
   ]
  },
  {
   "cell_type": "code",
   "execution_count": 4,
   "id": "8aa6a21c",
   "metadata": {},
   "outputs": [
    {
     "data": {
      "text/latex": [
       "$\\displaystyle \\frac{m^{2} \\omega^{2} x^{4}}{4} + 0.5 p^{2} x^{2} + \\frac{0.25 p^{4}}{m^{2} \\omega^{2}}$"
      ],
      "text/plain": [
       "m**2*omega**2*x**4/4 + 0.5*p**2*x**2 + 0.25*p**4/(m**2*omega**2)"
      ]
     },
     "execution_count": 4,
     "metadata": {},
     "output_type": "execute_result"
    }
   ],
   "source": [
    "sp.expand(sp.simplify(sdag*sdag*s*s))"
   ]
  },
  {
   "cell_type": "code",
   "execution_count": 5,
   "id": "d6d6dbb4",
   "metadata": {},
   "outputs": [],
   "source": [
    "a = destroy(5)"
   ]
  },
  {
   "cell_type": "code",
   "execution_count": 6,
   "id": "2db8607e",
   "metadata": {},
   "outputs": [],
   "source": [
    "wq = 3.6e9*2*np.pi\n",
    "alpha = 223e6*2*np.pi"
   ]
  },
  {
   "cell_type": "code",
   "execution_count": 7,
   "id": "23d42040",
   "metadata": {},
   "outputs": [],
   "source": [
    "H = wq*a.dag()*a - alpha/2*a.dag()*a.dag()*a*a"
   ]
  },
  {
   "cell_type": "code",
   "execution_count": 8,
   "id": "b54afc74",
   "metadata": {},
   "outputs": [
    {
     "data": {
      "text/plain": [
       "array([3.600e+09, 3.377e+09, 3.154e+09, 2.931e+09])"
      ]
     },
     "execution_count": 8,
     "metadata": {},
     "output_type": "execute_result"
    }
   ],
   "source": [
    "H.eigenenergies()/(2*np.pi)\n",
    "np.diff(H.eigenenergies()/(2*np.pi)) "
   ]
  },
  {
   "cell_type": "code",
   "execution_count": 11,
   "id": "dfae3e1c",
   "metadata": {},
   "outputs": [
    {
     "data": {
      "text/plain": [
       "array([-0.33012  , -0.3096709, -0.2892218, -0.2687727])"
      ]
     },
     "execution_count": 11,
     "metadata": {},
     "output_type": "execute_result"
    }
   ],
   "source": [
    "gdelta2 = 0.0000917\n",
    "energies = 5.729e9 - gdelta2*H.eigenenergies()/(2*np.pi)\n",
    "np.diff(energies)/1e6"
   ]
  },
  {
   "cell_type": "code",
   "execution_count": 12,
   "id": "a250687d",
   "metadata": {},
   "outputs": [
    {
     "data": {
      "text/plain": [
       "array([[744.20174428,  -4.72322674,   0.        , ...,   0.        ,\n",
       "          0.        ,   0.        ],\n",
       "       [ -4.72322674, 696.963132  ,  -4.72322674, ...,   0.        ,\n",
       "          0.        ,   0.        ],\n",
       "       [  0.        ,  -4.72322674, 651.27332668, ...,   0.        ,\n",
       "          0.        ,   0.        ],\n",
       "       ...,\n",
       "       [  0.        ,   0.        ,   0.        , ..., 651.27332668,\n",
       "         -4.72322674,   0.        ],\n",
       "       [  0.        ,   0.        ,   0.        , ...,  -4.72322674,\n",
       "        696.963132  ,  -4.72322674],\n",
       "       [  0.        ,   0.        ,   0.        , ...,   0.        ,\n",
       "         -4.72322674, 744.20174428]])"
      ]
     },
     "execution_count": 12,
     "metadata": {},
     "output_type": "execute_result"
    }
   ],
   "source": [
    "import numpy as np\n",
    "import scqubits as scq\n",
    "\n",
    "def tmon_model(EJ, EC):\n",
    "\n",
    "    tmon = scq.Transmon(\n",
    "        EJ=EJ,\n",
    "        EC=EC,\n",
    "        ng=0.0,\n",
    "        ncut=31\n",
    "    )\n",
    "    \n",
    "    tmon.eigenvals(evals_count=12)\n",
    "\n",
    "    freq = np.diff(tmon.eigenvals(evals_count=12))[0]\n",
    "    alpha = np.diff(np.diff(tmon.eigenvals(evals_count=12)))[0]\n",
    "\n",
    "    return freq, alpha\n",
    "\n",
    "def cost(x, *args):\n",
    "    \n",
    "    EJ = x[0]\n",
    "    EC = x[1]\n",
    "    \n",
    "    freq_exp = args[0][0]\n",
    "    alpha_exp = args[0][1]\n",
    "\n",
    "    \n",
    "    freq_model, alpha_model = tmon_model(EJ, EC)\n",
    "    \n",
    "    exp = np.array([freq_exp, alpha_exp])\n",
    "    model = np.array([freq_model, alpha_model])\n",
    "    \n",
    "    error = np.sum( ((model-exp) / exp)**2 )\n",
    "    \n",
    "    return error\n",
    "\n",
    "import scipy.optimize\n",
    "\n",
    "def get_transmon_hamiltonian(freq, alpha):\n",
    "\n",
    "    x0 = np.array([9.3, 0.195])\n",
    "\n",
    "    args = [freq, alpha]\n",
    "\n",
    "    result = scipy.optimize.minimize(cost, x0, tol=1e-8,bounds=[(0,100),(0,100)],args=args)\n",
    "\n",
    "    result['x']\n",
    "\n",
    "    tmon = scq.Transmon(\n",
    "            EJ=9.44645349,\n",
    "            EC=0.19360087,\n",
    "            ng=0.0,\n",
    "            ncut=31)\n",
    "    \n",
    "    return tmon.hamiltonian()\n",
    "\n",
    "get_transmon_hamiltonian(3.62e9, 223e6)"
   ]
  },
  {
   "cell_type": "code",
   "execution_count": null,
   "id": "fb651503",
   "metadata": {},
   "outputs": [],
   "source": []
  }
 ],
 "metadata": {
  "kernelspec": {
   "display_name": "Python 3 (ipykernel)",
   "language": "python",
   "name": "python3"
  },
  "language_info": {
   "codemirror_mode": {
    "name": "ipython",
    "version": 3
   },
   "file_extension": ".py",
   "mimetype": "text/x-python",
   "name": "python",
   "nbconvert_exporter": "python",
   "pygments_lexer": "ipython3",
   "version": "3.9.7"
  }
 },
 "nbformat": 4,
 "nbformat_minor": 5
}
