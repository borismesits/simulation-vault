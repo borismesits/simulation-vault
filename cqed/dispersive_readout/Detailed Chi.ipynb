{
 "cells": [
  {
   "cell_type": "code",
   "execution_count": 361,
   "id": "551ea47a",
   "metadata": {},
   "outputs": [
    {
     "name": "stdout",
     "output_type": "stream",
     "text": [
      "3.6200069083915807\n",
      "-0.2229990636909318\n",
      "-0.026320487001292303\n"
     ]
    },
    {
     "data": {
      "text/plain": [
       "array([3.62000691e+00, 3.39700784e+00, 3.14768829e+00, 2.81267360e+00,\n",
       "       2.67680627e+00, 1.29717497e+00, 3.95669791e+00, 7.61250236e-02,\n",
       "       6.55369846e+00, 6.93010239e-04, 8.33045637e+00, 2.32219156e-06,\n",
       "       9.95739000e+00, 3.69652753e-09, 1.15456881e+01, 3.18323146e-12,\n",
       "       1.31169512e+01, 1.42108547e-13, 1.46795361e+01, 2.84217094e-13,\n",
       "       1.62372848e+01, 0.00000000e+00, 1.77921547e+01, 3.69482223e-13,\n",
       "       1.93452206e+01, 2.27373675e-13, 2.08971080e+01, 1.13686838e-13,\n",
       "       2.24481987e+01, 5.68434189e-14, 2.39987348e+01, 1.70530257e-13,\n",
       "       2.55488752e+01, 5.96855898e-13, 2.70987269e+01, 6.53699317e-13,\n",
       "       2.86483642e+01, 2.27373675e-13, 3.01978394e+01, 1.70530257e-13,\n",
       "       3.17471902e+01, 2.38742359e-12, 3.32964442e+01, 2.84217094e-12,\n",
       "       3.48456222e+01, 1.76214598e-12, 3.63947395e+01, 5.68434189e-13,\n",
       "       3.79438082e+01, 2.04636308e-12, 3.94928373e+01, 5.68434189e-13,\n",
       "       4.10418341e+01, 9.09494702e-13, 4.25908043e+01, 4.54747351e-13,\n",
       "       4.41397566e+01, 1.25055521e-12, 4.56909696e+01, 1.36424205e-12,\n",
       "       4.76902754e+01, 7.95807864e-13])"
      ]
     },
     "execution_count": 361,
     "metadata": {},
     "output_type": "execute_result"
    }
   ],
   "source": [
    "import numpy as np\n",
    "import scqubits as scq\n",
    "\n",
    "def tmon_model(EJ, EC):\n",
    "\n",
    "    tmon = scq.Transmon(\n",
    "        EJ=EJ,\n",
    "        EC=EC,\n",
    "        ng=0.0,\n",
    "        ncut=31\n",
    "    )\n",
    "    \n",
    "    tmon.eigenvals(evals_count=12)\n",
    "\n",
    "    freq = np.diff(tmon.eigenvals(evals_count=12))[0]\n",
    "    alpha = np.diff(np.diff(tmon.eigenvals(evals_count=12)))[0]\n",
    "\n",
    "    return freq, alpha\n",
    "\n",
    "def cost(x, *args):\n",
    "    \n",
    "    EJ = x[0]\n",
    "    EC = x[1]\n",
    "    \n",
    "    freq_exp = args[0][0]\n",
    "    alpha_exp = args[0][1]\n",
    "\n",
    "    \n",
    "    freq_model, alpha_model = tmon_model(EJ, EC)\n",
    "    \n",
    "    exp = np.array([freq_exp, alpha_exp])\n",
    "    model = np.array([freq_model, alpha_model])\n",
    "    \n",
    "    error = np.sum( ((model-exp) / exp)**2 )\n",
    "    \n",
    "    return error\n",
    "\n",
    "import scipy.optimize\n",
    "\n",
    "def get_transmon_hamiltonian(freq, alpha):\n",
    "\n",
    "    x0 = np.array([9.3, 0.195])\n",
    "\n",
    "    args = [freq, alpha]\n",
    "\n",
    "    result = scipy.optimize.minimize(cost, x0, tol=1e-8,bounds=[(0,100),(0,100)],args=args)\n",
    "\n",
    "    result['x']\n",
    "\n",
    "    tmon = scq.Transmon(\n",
    "            EJ=9.44645349,\n",
    "            EC=0.19360087,\n",
    "            ng=0.0,\n",
    "            ncut=31)\n",
    "    \n",
    "    return tmon.hamiltonian()\n",
    "\n",
    "H = get_transmon_hamiltonian(3.62e9, 223e6)\n",
    "w_q = np.diff(np.sort(np.linalg.eig(H)[0]))[0]  # bare qubit frequency\n",
    "alpha = np.diff(np.diff(np.sort(np.linalg.eig(H)[0])))[0]  # anharmonicity\n",
    "k6 = np.diff(np.diff(np.diff(np.sort(np.linalg.eig(H)[0]))))[0]  # sixth order term\n",
    "print(w_q)\n",
    "print(alpha)\n",
    "print(k6)\n",
    "np.diff(np.sort(np.linalg.eig(H)[0]))"
   ]
  },
  {
   "cell_type": "markdown",
   "id": "db0a807f",
   "metadata": {},
   "source": [
    "Verify that the extracted transmon parameters give the same list of energies as the scqubits model."
   ]
  },
  {
   "cell_type": "code",
   "execution_count": 343,
   "id": "b8cda0d0",
   "metadata": {},
   "outputs": [
    {
     "data": {
      "text/plain": [
       "array([3.62 , 3.397, 3.148, 2.873, 2.572, 2.245, 1.892, 1.513, 1.108])"
      ]
     },
     "execution_count": 343,
     "metadata": {},
     "output_type": "execute_result"
    }
   ],
   "source": [
    "import numpy as np\n",
    "import matplotlib.pyplot as plt\n",
    "from qutip import *\n",
    "\n",
    "\n",
    "Nq = 10\n",
    "w_q  = 2 * np.pi * 3.62e9 # bare qubit frequency\n",
    "alpha = -223e6 * 2 * np.pi # anharmonicity\n",
    "k6 = -26e6 * 2 * np.pi # sixth order term\n",
    "\n",
    "q = destroy(Nq)\n",
    "\n",
    "tlist = np.linspace(0,1e-7,10000)\n",
    "\n",
    "H0 = w_q * q.dag() * q + (alpha/2)*q.dag()*q.dag()*q*q + (k6/6)*(q.dag()*q.dag()*q.dag()*q*q*q)\n",
    "\n",
    "np.diff(H0.eigenenergies()/(2e9*np.pi))\n"
   ]
  },
  {
   "cell_type": "markdown",
   "id": "60709013",
   "metadata": {},
   "source": [
    "Create a dispersive readout Hamiltonian and use the eigenvectors to pick out which energies correspond to which cavity and transmon photon number. Then find the difference in energies between zero and one cavity photon, for all values of transmon photon number. This should give a state dependent $\\chi$, keeping in mind that the transmon Hamiltonian is only up to sixth order. We could fit everything, but here I'm just playing with values to give close numbers.\n",
    "\n",
    "The experimental data we have includes the dressed cavity frequency for four observed qubit states, and the dressed qubit transition frequency for the first and second transitions (equivalent to the anharmonicity).\n",
    "\n",
    "From this we can get the fit bare cavity frequency.\n",
    "\n",
    "The cavity frequencies are 5.72965, 5.72931, 5.72896 and 5.72867 GHz. The odd extra peaks are at (roughly) 5.7267 and 5.7305 GHz. \n",
    "\n",
    "The qubit frequencies are 3.620 GHz and 3.397 GHz. "
   ]
  },
  {
   "cell_type": "code",
   "execution_count": 358,
   "id": "71b97dd4",
   "metadata": {},
   "outputs": [
    {
     "name": "stdout",
     "output_type": "stream",
     "text": [
      "Chi from the model: [5.72960186 5.72926219 5.72895972 5.72869485 5.72846357 5.72825947\n",
      " 5.72807485 5.72790139 5.72772751 5.72605769]\n",
      "Dressed qb freq: 3.620922288841517\n",
      "Dressed cav freq: 5.729601864176648\n"
     ]
    }
   ],
   "source": [
    "import numpy as np\n",
    "import matplotlib.pyplot as plt\n",
    "from qutip import *\n",
    "\n",
    "Nc = 10\n",
    "Nq = 10\n",
    "\n",
    "w_c  = 2 * np.pi * 5.7283e9 # bare resonator frequency\n",
    "w_q  = 2 * np.pi * 3.623e9 # bare qubit frequency\n",
    "alpha = -223e6 * 2 * np.pi # anharmonicity\n",
    "g = 59.5e6 * 2 * np.pi\n",
    "k6 = -26e6 * 2 * np.pi # sixth order term\n",
    "\n",
    "c  = tensor(destroy(Nc), qeye(Nq))\n",
    "\n",
    "q = tensor(qeye(Nc), destroy(Nq))\n",
    "\n",
    "tlist = np.linspace(0,1e-7,10000)\n",
    "\n",
    "H0 = w_c * c.dag() * c + w_q * q.dag() * q + (alpha/2)*q.dag()*q.dag()*q*q  + (k6/6)*(q.dag()*q.dag()*q.dag()*q*q*q) - g*(c.dag() - c)*(q.dag() - q)\n",
    "\n",
    "H = np.array(H0)\n",
    "\n",
    "cav_0 = np.zeros(Nq)\n",
    "cav_1 = np.zeros(Nq)\n",
    "\n",
    "for i in range(0,Nc*Nq):\n",
    "\n",
    "    eigval = H0.eigenenergies()[i]\n",
    "    eigvect = np.abs(np.reshape(np.array(H0.eigenstates()[1][i]),(Nc,Nq)))\n",
    "    cav_is, qb_is = np.where(eigvect==np.max(eigvect))\n",
    "    cav_i = cav_is[0]\n",
    "    qb_i = qb_is[0]\n",
    "    \n",
    "    if cav_i == 0:\n",
    "        cav_0[qb_i] = eigval\n",
    "        \n",
    "    elif cav_i == 1:\n",
    "        cav_1[qb_i] = eigval\n",
    "      \n",
    "\n",
    "print('Chi from the model: ' + str((cav_1-cav_0)/(2e9*np.pi)))\n",
    "print('Dressed qb freq: ' + str((cav_0[1]-cav_0[0])/(2e9*np.pi)))\n",
    "print('Dressed cav freq: ' + str((cav_1[0]-cav_0[0])/(2e9*np.pi)))"
   ]
  },
  {
   "cell_type": "markdown",
   "id": "ba7b1c1a",
   "metadata": {},
   "source": [
    "This suggests the bare cav frequency is about 5.7283 GHz, which does not correspond to the 5.7267 GHz line."
   ]
  },
  {
   "cell_type": "code",
   "execution_count": null,
   "id": "0c4d9f35",
   "metadata": {},
   "outputs": [],
   "source": []
  }
 ],
 "metadata": {
  "kernelspec": {
   "display_name": "Python 3 (ipykernel)",
   "language": "python",
   "name": "python3"
  },
  "language_info": {
   "codemirror_mode": {
    "name": "ipython",
    "version": 3
   },
   "file_extension": ".py",
   "mimetype": "text/x-python",
   "name": "python",
   "nbconvert_exporter": "python",
   "pygments_lexer": "ipython3",
   "version": "3.10.9"
  }
 },
 "nbformat": 4,
 "nbformat_minor": 5
}
