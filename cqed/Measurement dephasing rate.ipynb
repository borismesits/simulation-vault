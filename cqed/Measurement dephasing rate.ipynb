{
 "cells": [
  {
   "cell_type": "code",
   "execution_count": 23,
   "id": "5d4b43d3",
   "metadata": {},
   "outputs": [
    {
     "name": "stdout",
     "output_type": "stream",
     "text": [
      "6.25e-08\n"
     ]
    },
    {
     "data": {
      "text/plain": [
       "100.53096491487337"
      ]
     },
     "execution_count": 23,
     "metadata": {},
     "output_type": "execute_result"
    }
   ],
   "source": [
    "import numpy as np\n",
    "\n",
    "nbar = 10\n",
    "\n",
    "kappa = 1e6*2*np.pi\n",
    "chi = 1e6*2*np.pi\n",
    "\n",
    "gamma = kappa*chi**2*(2*nbar)/ ( chi**2 + (kappa/2)**2)\n",
    "\n",
    "tphi = 2*np.pi/gamma\n",
    "\n",
    "print(tphi)\n",
    "\n",
    "meas_time = 1e-6\n",
    "\n",
    "equiv_photon_number = gamma*meas_time\n",
    "equiv_photon_number"
   ]
  },
  {
   "cell_type": "code",
   "execution_count": 22,
   "id": "0ecb561e",
   "metadata": {},
   "outputs": [
    {
     "data": {
      "text/plain": [
       "100.53096491487337"
      ]
     },
     "execution_count": 22,
     "metadata": {},
     "output_type": "execute_result"
    }
   ],
   "source": []
  },
  {
   "cell_type": "code",
   "execution_count": null,
   "id": "87e3b5f3",
   "metadata": {},
   "outputs": [],
   "source": []
  }
 ],
 "metadata": {
  "kernelspec": {
   "display_name": "fullconda",
   "language": "python",
   "name": "myenv"
  },
  "language_info": {
   "codemirror_mode": {
    "name": "ipython",
    "version": 3
   },
   "file_extension": ".py",
   "mimetype": "text/x-python",
   "name": "python",
   "nbconvert_exporter": "python",
   "pygments_lexer": "ipython3",
   "version": "3.12.9"
  }
 },
 "nbformat": 4,
 "nbformat_minor": 5
}
