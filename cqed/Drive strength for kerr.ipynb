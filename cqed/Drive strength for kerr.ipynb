{
 "cells": [
  {
   "cell_type": "code",
   "execution_count": 4,
   "id": "6115b0d4",
   "metadata": {},
   "outputs": [],
   "source": [
    "import numpy as np\n",
    "import matplotlib.pyplot as plt"
   ]
  },
  {
   "cell_type": "code",
   "execution_count": 5,
   "id": "8dc86f24",
   "metadata": {},
   "outputs": [
    {
     "name": "stderr",
     "output_type": "stream",
     "text": [
      "C:\\Users\\boris\\AppData\\Local\\Temp\\ipykernel_41140\\2482229187.py:6: RuntimeWarning: divide by zero encountered in divide\n",
      "  eta = 2*omega0*eps / (omega0**2 - omega**2)\n"
     ]
    }
   ],
   "source": [
    "eps = 1\n",
    "\n",
    "omega0 = 5e9 * 2 * np.pi\n",
    "omega = np.linspace(4.5e9, 5.5e9, 101) * 2 * np.pi\n",
    "\n",
    "eta = 2*omega0*eps / (omega0**2 - omega**2)"
   ]
  },
  {
   "cell_type": "code",
   "execution_count": 8,
   "id": "c02e2234",
   "metadata": {},
   "outputs": [
    {
     "data": {
      "text/plain": [
       "[<matplotlib.lines.Line2D at 0x25803d4a0c0>]"
      ]
     },
     "execution_count": 8,
     "metadata": {},
     "output_type": "execute_result"
    },
    {
     "data": {
      "image/png": "[encoded data removed]",
      "text/plain": [
       "<Figure size 640x480 with 1 Axes>"
      ]
     },
     "metadata": {},
     "output_type": "display_data"
    }
   ],
   "source": [
    "plt.plot(omega/(2*np.pi), eta)"
   ]
  },
  {
   "cell_type": "code",
   "execution_count": 40,
   "id": "fd6fe18a",
   "metadata": {},
   "outputs": [],
   "source": [
    "PdB_RT = -10\n",
    "\n",
    "att = 75\n",
    "\n",
    "PdB = PdB_RT - att\n",
    "\n",
    "Plin = 1e-3*10**(PdB/10)\n",
    "\n",
    "hbar = 6.62e-34/(2*np.pi)\n",
    "kappa = 5e6*2*np.pi\n",
    "\n",
    "A = np.sqrt(Plin/(omega0*hbar))\n",
    "\n",
    "omega0 = 5e9 * 2 * np.pi\n",
    "omega = 5.5e9 * 2 * np.pi\n"
   ]
  },
  {
   "cell_type": "code",
   "execution_count": 37,
   "id": "884a1de9",
   "metadata": {},
   "outputs": [],
   "source": [
    "eps = np.sqrt(kappa)*A\n",
    "nbar = 4*eps**2 / (kappa**2)\n",
    "eta = 2*omega0*eps / (omega0**2 - omega**2)"
   ]
  },
  {
   "cell_type": "code",
   "execution_count": 38,
   "id": "3fe31bc9",
   "metadata": {},
   "outputs": [],
   "source": [
    "stark = 2*eta"
   ]
  },
  {
   "cell_type": "code",
   "execution_count": 39,
   "id": "5e340839",
   "metadata": {},
   "outputs": [
    {
     "data": {
      "text/plain": [
       "np.float64(-1.6608169468356586)"
      ]
     },
     "execution_count": 39,
     "metadata": {},
     "output_type": "execute_result"
    }
   ],
   "source": [
    "eta"
   ]
  },
  {
   "cell_type": "code",
   "execution_count": null,
   "id": "9ef9d097",
   "metadata": {},
   "outputs": [],
   "source": []
  }
 ],
 "metadata": {
  "kernelspec": {
   "display_name": "fullconda",
   "language": "python",
   "name": "myenv"
  },
  "language_info": {
   "codemirror_mode": {
    "name": "ipython",
    "version": 3
   },
   "file_extension": ".py",
   "mimetype": "text/x-python",
   "name": "python",
   "nbconvert_exporter": "python",
   "pygments_lexer": "ipython3",
   "version": "3.12.9"
  }
 },
 "nbformat": 4,
 "nbformat_minor": 5
}
