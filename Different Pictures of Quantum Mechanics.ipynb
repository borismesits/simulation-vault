{
 "cells": [
  {
   "cell_type": "code",
   "execution_count": 100,
   "id": "fd039a0b",
   "metadata": {},
   "outputs": [],
   "source": [
    "from qutip import *\n",
    "import numpy as np\n",
    "import matplotlib.pyplot as plt\n",
    "import sympy as sp\n",
    "π = np.pi"
   ]
  },
  {
   "cell_type": "markdown",
   "id": "5035b0e7",
   "metadata": {},
   "source": [
    "Let's imagine a two-level system plus a driving term.\n",
    "\n",
    "$$\n",
    "H_0 = \\frac{\\omega_a}{2} \\sigma_z\n",
    "$$\n",
    "\n",
    "$$\n",
    "H_1 = \\eta \\exp( -i \\omega t)\n",
    "$$\n",
    "\n",
    "$$\n",
    "H = H_0 + H_1\n",
    "$$\n",
    "\n",
    "We can numerically solve with QuTiP, as implemented below.\n",
    "\n",
    "If we choose a large enough drive strength ($\\eta$) and choose a small or zero detuning beween $\\omega_a$ and $\\omega$, we should see Rabi oscillations."
   ]
  },
  {
   "cell_type": "code",
   "execution_count": 99,
   "id": "f46563c6",
   "metadata": {},
   "outputs": [
    {
     "data": {
      "text/plain": [
       "<matplotlib.legend.Legend at 0x26e96ff98b0>"
      ]
     },
     "execution_count": 99,
     "metadata": {},
     "output_type": "execute_result"
    },
    {
     "data": {
      "image/png": "[encoded data removed]",
      "text/plain": [
       "<Figure size 432x288 with 1 Axes>"
      ]
     },
     "metadata": {
      "needs_background": "light"
     },
     "output_type": "display_data"
    }
   ],
   "source": [
    "ωa = 5e9 * 2*π\n",
    "η = 3e8 * 2*π\n",
    "ω = 5e9 * 2*π\n",
    "\n",
    "σx = sigmax()\n",
    "σy = sigmay()\n",
    "σz = sigmaz()\n",
    "\n",
    "t = np.linspace(0, 5e-9, 10000)\n",
    "\n",
    "H0 = ω*σz/2\n",
    "\n",
    "H = [H0, [σz, η*np.cos(ω*t)]]\n",
    "\n",
    "ψ0 = basis(2,1)\n",
    "\n",
    "output = mesolve(H, ψ0, t, e_ops=[σx,σy,σz])\n",
    "\n",
    "plt.plot(t,output.expect[0], label='<x>')\n",
    "plt.plot(t,output.expect[1], label='<y>')\n",
    "plt.plot(t,output.expect[2], label='<z>')\n",
    "plt.xlabel('Time (s)')\n",
    "plt.legend()\n"
   ]
  },
  {
   "cell_type": "code",
   "execution_count": 98,
   "id": "5b167c02",
   "metadata": {},
   "outputs": [
    {
     "data": {
      "text/plain": [
       "31415926535.89793"
      ]
     },
     "execution_count": 98,
     "metadata": {},
     "output_type": "execute_result"
    }
   ],
   "source": []
  },
  {
   "cell_type": "markdown",
   "id": "34ebb580",
   "metadata": {},
   "source": [
    "Now let's try to analytically understand the problem. Obviously our Hamiltonian is time-dependent, so we need to think beyond the time-independent Schrodinger equation. However, this very simple example can be understood without resorting to perturbation theory.\n",
    "\n",
    "One way to proceed is to use the interaction picture. Yes, the interaction picture is often used with perturbation theory, but this is by no means a requirement.\n",
    "\n",
    "We start with\n",
    "$$\n",
    "U_S^0 = \\exp(-i H_0 t)\n",
    "$$\n",
    "\n",
    "Because $H_0$ is diagonal, we can exponentiate the terms individually.\n",
    "\n",
    "$$\n",
    "U_S^0 = \\exp\n",
    "$$\n",
    "\n",
    "$$\n",
    "\\left(U_{S}^{0}\\right)^{\\dagger} H_{S}^{1}(t) U_{S}^{0}=H_{I}^{1}(t)\n",
    "$$"
   ]
  },
  {
   "cell_type": "code",
   "execution_count": null,
   "id": "7b93232b",
   "metadata": {},
   "outputs": [],
   "source": []
  }
 ],
 "metadata": {
  "kernelspec": {
   "display_name": "Python 3 (ipykernel)",
   "language": "python",
   "name": "python3"
  },
  "language_info": {
   "codemirror_mode": {
    "name": "ipython",
    "version": 3
   },
   "file_extension": ".py",
   "mimetype": "text/x-python",
   "name": "python",
   "nbconvert_exporter": "python",
   "pygments_lexer": "ipython3",
   "version": "3.9.7"
  }
 },
 "nbformat": 4,
 "nbformat_minor": 5
}
