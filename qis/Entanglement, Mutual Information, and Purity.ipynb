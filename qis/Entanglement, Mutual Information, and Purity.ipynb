{
 "cells": [
  {
   "cell_type": "code",
   "execution_count": 1,
   "id": "b0862ac3",
   "metadata": {},
   "outputs": [],
   "source": [
    "import numpy as np\n",
    "import matplotlib.pyplot as plt\n",
    "from qutip import *"
   ]
  },
  {
   "cell_type": "code",
   "execution_count": 153,
   "id": "e0c2f7e0",
   "metadata": {},
   "outputs": [],
   "source": [
    "def purity(rho):\n",
    "    return (rho*rho).tr()\n",
    "\n",
    "def normalize(psi):\n",
    "    return psi/np.sqrt(psi.dag()*psi)\n",
    "\n",
    "def entropy_bits(rho):\n",
    "    \n",
    "    return np.log2(np.exp(-(rho*rho.logm()).tr()))"
   ]
  },
  {
   "cell_type": "code",
   "execution_count": 183,
   "id": "6cd7999f",
   "metadata": {},
   "outputs": [],
   "source": [
    "psi = normalize(bell_state() + tensor(basis(2,0), basis(2,0)))\n",
    "\n",
    "rho = psi*psi.dag()\n"
   ]
  },
  {
   "cell_type": "markdown",
   "id": "52a880bf",
   "metadata": {},
   "source": [
    "I can think of two ways to try to calculate the entanglement. One is using the purity, and one uses von Neuman entropy. The issue with the latter is that it requires a matrix logarithm, which apparently is slow. Using the purity only requires the trace which seems faster.\n",
    "Here's the first method:"
   ]
  },
  {
   "cell_type": "code",
   "execution_count": 184,
   "id": "81df7612",
   "metadata": {},
   "outputs": [
    {
     "data": {
      "text/plain": [
       "0.5000000000000002"
      ]
     },
     "execution_count": 184,
     "metadata": {},
     "output_type": "execute_result"
    }
   ],
   "source": [
    "E = 1 - (purity(rho.ptrace(0))+purity(rho.ptrace(1)) - purity(rho))\n",
    "E"
   ]
  },
  {
   "cell_type": "markdown",
   "id": "6062fd30",
   "metadata": {},
   "source": [
    "And the second method - which is the definition of mutual information coming from NC Eq. 11.20. I think to make them more comparable, you would divide by the size of the Hilbert space of one subsystem. Which one? Idk"
   ]
  },
  {
   "cell_type": "code",
   "execution_count": 185,
   "id": "2037f028",
   "metadata": {},
   "outputs": [
    {
     "data": {
      "text/plain": [
       "np.float64(1.2017520733856735)"
      ]
     },
     "execution_count": 185,
     "metadata": {},
     "output_type": "execute_result"
    }
   ],
   "source": [
    "E2 = entropy_bits(rho.ptrace(0)) + entropy_bits(rho.ptrace(1)) - entropy_bits(rho)\n",
    "E2"
   ]
  },
  {
   "cell_type": "code",
   "execution_count": null,
   "id": "23ba47ce",
   "metadata": {},
   "outputs": [],
   "source": []
  }
 ],
 "metadata": {
  "kernelspec": {
   "display_name": "fullconda",
   "language": "python",
   "name": "myenv"
  },
  "language_info": {
   "codemirror_mode": {
    "name": "ipython",
    "version": 3
   },
   "file_extension": ".py",
   "mimetype": "text/x-python",
   "name": "python",
   "nbconvert_exporter": "python",
   "pygments_lexer": "ipython3",
   "version": "3.12.9"
  }
 },
 "nbformat": 4,
 "nbformat_minor": 5
}
